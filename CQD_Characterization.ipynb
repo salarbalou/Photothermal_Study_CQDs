{
  "nbformat": 4,
  "nbformat_minor": 0,
  "metadata": {
    "colab": {
      "name": "CQD Characterization.ipynb",
      "provenance": [],
      "collapsed_sections": [],
      "authorship_tag": "ABX9TyOKezJ0jdS2D7NcvPSenqSl",
      "include_colab_link": true
    },
    "kernelspec": {
      "name": "python3",
      "display_name": "Python 3"
    },
    "language_info": {
      "name": "python"
    }
  },
  "cells": [
    {
      "cell_type": "markdown",
      "metadata": {
        "id": "view-in-github",
        "colab_type": "text"
      },
      "source": [
        "<a href=\"https://colab.research.google.com/github/salarbalou/Photothermal_Study_CQDs/blob/main/CQD_Characterization.ipynb\" target=\"_parent\"><img src=\"https://colab.research.google.com/assets/colab-badge.svg\" alt=\"Open In Colab\"/></a>"
      ]
    },
    {
      "cell_type": "code",
      "metadata": {
        "id": "MuvKKvnWpuea"
      },
      "source": [
        "import numpy as np\n",
        "import plotly.io as pio\n",
        "pio.templates.default  = 'plotly_white'\n",
        "from plotly.subplots import make_subplots\n",
        "import plotly.graph_objects as go\n",
        "import plotly.express as px"
      ],
      "execution_count": 9,
      "outputs": []
    },
    {
      "cell_type": "code",
      "metadata": {
        "id": "4Of5Zvrdxdme"
      },
      "source": [
        "CQDs = np.array(['Blue', 'Cyan', 'Green', 'Yellow', 'Orange', 'Red'])"
      ],
      "execution_count": 15,
      "outputs": []
    },
    {
      "cell_type": "code",
      "metadata": {
        "id": "TVtwgV24xNgm"
      },
      "source": [
        "fig = make_subplots(rows = 6, cols = 1)\n",
        "baseurl = 'https://raw.githubusercontent.com/salarbalou/Photothermal_Study_CQDs/main/'\n",
        "char = '_CQD_FTIR.txt'\n",
        "for i in range (CQDs.size):\n",
        " data = np.loadtxt(baseurl+CQDs[i]+char, delimiter = '\\t')\n",
        " fig.add_trace(go.Scatter(x = data[:, 0], y = data[:, 1], mode  = 'lines', line_color = CQDs[i], name = f'{CQDs[i]}_CQD'), row  = i+1, col = 1)\n",
        " fig.update_layout(height = 1200, width = 1000)\n",
        " fig.update_xaxes(range = [3500, 500], title = 'wavelength(nm)', tickfont = dict(size = 12))\n",
        " fig.update_yaxes(range = [0, 100],  title = 'Transmittance (%)')\n",
        "fig.show()"
      ],
      "execution_count": null,
      "outputs": []
    },
    {
      "cell_type": "code",
      "metadata": {
        "colab": {
          "base_uri": "https://localhost:8080/",
          "height": 391
        },
        "id": "J60P-Na21h1T",
        "outputId": "2bc5de6c-4702-4fe2-a267-737471a1e7a6"
      },
      "source": [
        "fig2 = make_subplots(rows = i, cols = 1)\n",
        "baseurlUV = 'https://raw.githubusercontent.com/salarbalou/Photothermal_Study_CQDs/main/'\n",
        "charUV = '_CQD_UV.txt' \n",
        "charFl = '_CQD_FL.txt' \n",
        "for i in range(CQDs.size):\n",
        " dataUV = np.loadtxt(baseurlUV+CQDs[i]+charUV, delimiter='\\t')\n",
        " dataFL = np.loadtxt(baseurlUV+CQDs[i]+charFL, delimiter='\\t')\n",
        " fig2.add_trace(go.Scatter(x = dataUV[:, 0], y = dataUV[:, 1], line_color = CQDs[i], name  = f'{CQDs[i]}_CQD Ex'))\n",
        " fig2.add_trace(go.Scatter(x = dataFL[:, 0], y = dataFL[:, 1], line_color = CQDs[i], name  = f'{CQDs[i]}_CQD Em'))\n",
        " fig2.update_xaxes(range = [280, 1000], title = 'wavelength (nm)', title_font = dict(size  = 24))\n",
        " fig2.update_yaxes(range = [-0.01, 1], title = 'Intensity (a.u.)', title_font = dict(size  = 24))\n",
        " fig.update_layout(height = 1200, width = 1000)\n",
        "fig2.show()"
      ],
      "execution_count": 47,
      "outputs": [
        {
          "output_type": "error",
          "ename": "ValueError",
          "evalue": "ignored",
          "traceback": [
            "\u001b[0;31m---------------------------------------------------------------------------\u001b[0m",
            "\u001b[0;31mValueError\u001b[0m                                Traceback (most recent call last)",
            "\u001b[0;32m<ipython-input-47-ecbe4339eb25>\u001b[0m in \u001b[0;36m<module>\u001b[0;34m()\u001b[0m\n\u001b[0;32m----> 1\u001b[0;31m \u001b[0mfig2\u001b[0m \u001b[0;34m=\u001b[0m \u001b[0mmake_subplots\u001b[0m\u001b[0;34m(\u001b[0m\u001b[0mrows\u001b[0m \u001b[0;34m=\u001b[0m \u001b[0mi\u001b[0m\u001b[0;34m,\u001b[0m \u001b[0mcols\u001b[0m \u001b[0;34m=\u001b[0m \u001b[0;36m1\u001b[0m\u001b[0;34m)\u001b[0m\u001b[0;34m\u001b[0m\u001b[0;34m\u001b[0m\u001b[0m\n\u001b[0m\u001b[1;32m      2\u001b[0m \u001b[0mbaseurlUV\u001b[0m \u001b[0;34m=\u001b[0m \u001b[0;34m'https://raw.githubusercontent.com/salarbalou/Photothermal_Study_CQDs/main/'\u001b[0m\u001b[0;34m\u001b[0m\u001b[0;34m\u001b[0m\u001b[0m\n\u001b[1;32m      3\u001b[0m \u001b[0mcharUV\u001b[0m \u001b[0;34m=\u001b[0m \u001b[0;34m'_CQD_UV.txt'\u001b[0m\u001b[0;34m\u001b[0m\u001b[0;34m\u001b[0m\u001b[0m\n\u001b[1;32m      4\u001b[0m \u001b[0mcharFl\u001b[0m \u001b[0;34m=\u001b[0m \u001b[0;34m'_CQD_FL.txt'\u001b[0m\u001b[0;34m\u001b[0m\u001b[0;34m\u001b[0m\u001b[0m\n\u001b[1;32m      5\u001b[0m \u001b[0;32mfor\u001b[0m \u001b[0mi\u001b[0m \u001b[0;32min\u001b[0m \u001b[0mrange\u001b[0m\u001b[0;34m(\u001b[0m\u001b[0mCQDs\u001b[0m\u001b[0;34m.\u001b[0m\u001b[0msize\u001b[0m\u001b[0;34m)\u001b[0m\u001b[0;34m:\u001b[0m\u001b[0;34m\u001b[0m\u001b[0;34m\u001b[0m\u001b[0m\n",
            "\u001b[0;32m/usr/local/lib/python3.7/dist-packages/plotly/subplots.py\u001b[0m in \u001b[0;36mmake_subplots\u001b[0;34m(rows, cols, shared_xaxes, shared_yaxes, start_cell, print_grid, horizontal_spacing, vertical_spacing, subplot_titles, column_widths, row_heights, specs, insets, column_titles, row_titles, x_title, y_title, **kwargs)\u001b[0m\n\u001b[1;32m    355\u001b[0m \u001b[0mThe\u001b[0m \u001b[0;34m'rows'\u001b[0m \u001b[0margument\u001b[0m \u001b[0mto\u001b[0m \u001b[0mmake_suplots\u001b[0m \u001b[0mmust\u001b[0m \u001b[0mbe\u001b[0m \u001b[0man\u001b[0m \u001b[0mint\u001b[0m \u001b[0mgreater\u001b[0m \u001b[0mthan\u001b[0m \u001b[0;36m0.\u001b[0m\u001b[0;34m\u001b[0m\u001b[0;34m\u001b[0m\u001b[0m\n\u001b[1;32m    356\u001b[0m     Received value of type {typ}: {val}\"\"\".format(\n\u001b[0;32m--> 357\u001b[0;31m                 \u001b[0mtyp\u001b[0m\u001b[0;34m=\u001b[0m\u001b[0mtype\u001b[0m\u001b[0;34m(\u001b[0m\u001b[0mrows\u001b[0m\u001b[0;34m)\u001b[0m\u001b[0;34m,\u001b[0m \u001b[0mval\u001b[0m\u001b[0;34m=\u001b[0m\u001b[0mrepr\u001b[0m\u001b[0;34m(\u001b[0m\u001b[0mrows\u001b[0m\u001b[0;34m)\u001b[0m\u001b[0;34m\u001b[0m\u001b[0;34m\u001b[0m\u001b[0m\n\u001b[0m\u001b[1;32m    358\u001b[0m             )\n\u001b[1;32m    359\u001b[0m         )\n",
            "\u001b[0;31mValueError\u001b[0m: \nThe 'rows' argument to make_suplots must be an int greater than 0.\n    Received value of type <class 'int'>: 0"
          ]
        }
      ]
    },
    {
      "cell_type": "code",
      "metadata": {
        "colab": {
          "base_uri": "https://localhost:8080/"
        },
        "id": "8KBQFfA06qCk",
        "outputId": "92a6d740-3448-4fad-b8cf-0fedf26db118"
      },
      "source": [
        "dataUV"
      ],
      "execution_count": 27,
      "outputs": [
        {
          "output_type": "execute_result",
          "data": {
            "text/plain": [
              "array([[ 1.00004993e+03, -6.70871000e-03],\n",
              "       [ 9.99044434e+02, -2.59532300e-03],\n",
              "       [ 9.98038330e+02, -3.77126500e-03],\n",
              "       ...,\n",
              "       [ 2.01998016e+02,  4.23806680e-02],\n",
              "       [ 2.01054321e+02, -1.00564353e-01],\n",
              "       [ 1.99952698e+02,  1.04844630e+00]])"
            ]
          },
          "metadata": {},
          "execution_count": 27
        }
      ]
    },
    {
      "cell_type": "code",
      "metadata": {
        "id": "-E_qu_zy7DBG"
      },
      "source": [
        ""
      ],
      "execution_count": null,
      "outputs": []
    }
  ]
}