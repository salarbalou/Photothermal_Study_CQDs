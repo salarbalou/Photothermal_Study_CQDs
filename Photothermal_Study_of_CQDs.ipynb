{
  "nbformat": 4,
  "nbformat_minor": 0,
  "metadata": {
    "colab": {
      "name": "Photothermal Study of CQDs.ipynb",
      "provenance": [],
      "collapsed_sections": [],
      "authorship_tag": "ABX9TyPMYPeNY/gjsSO5RfSuAyvY",
      "include_colab_link": true
    },
    "kernelspec": {
      "name": "python3",
      "display_name": "Python 3"
    },
    "language_info": {
      "name": "python"
    }
  },
  "cells": [
    {
      "cell_type": "markdown",
      "metadata": {
        "id": "view-in-github",
        "colab_type": "text"
      },
      "source": [
        "<a href=\"https://colab.research.google.com/github/salarbalou/Photothermal_Study_CQDs/blob/main/Photothermal_Study_of_CQDs.ipynb\" target=\"_parent\"><img src=\"https://colab.research.google.com/assets/colab-badge.svg\" alt=\"Open In Colab\"/></a>"
      ]
    },
    {
      "cell_type": "code",
      "metadata": {
        "id": "ymcrcZvT-azs"
      },
      "source": [
        "import numpy as np\n",
        "import plotly.io as pio\n",
        "pio.templates.default= 'plotly_dark'\n",
        "from plotly.subplots import make_subplots"
      ],
      "execution_count": 76,
      "outputs": []
    },
    {
      "cell_type": "code",
      "metadata": {
        "id": "D4fl2QnixXUP"
      },
      "source": [
        "colors = ['red', 'cyan']\n",
        "concentration = '0.75'\n",
        "dcs = '20', '40', '60', '80', '100'\n",
        "space = '_'\n",
        "baseurl = 'https://raw.githubusercontent.com/salarbalou/Photothermal_Study_CQDs/main/'\n",
        "format = '.txt'"
      ],
      "execution_count": 77,
      "outputs": []
    },
    {
      "cell_type": "code",
      "metadata": {
        "id": "0JU3Fd7VywiF"
      },
      "source": [
        "fig = make_subplots()\n",
        "water_dcs = '20', '40', '60', '80', '100'\n",
        "HRs  = []\n",
        "experiments = []\n",
        "for water_dc in water_dcs:\n",
        " data_water = np.loadtxt(baseurl+'water'+space+'1'+space+water_dc+format, delimiter=' , ')[9:]\n",
        " tw, Tw = data_water[:,0][0:121], data_water[:,1][0:121]\n",
        " fig.add_scatter(x  = tw, y = Tw, name = f'water at PWM_dutycycle {water_dc}')\n",
        " fig.update_layout(height  = 800, width = 1000, title =  'Water Heating')\n",
        " fig.update_xaxes(nticks = 20, tickfont = dict(size = 18), title = 'time (seconds)', title_font = dict(size = 18))\n",
        " fig.update_yaxes(nticks = 20, tickfont = dict(size = 18), title = 'Temperature (˚C)', title_font = dict(size = 18))\n",
        "for color in colors:\n",
        "  for dc in dcs:\n",
        "     data = np.loadtxt(baseurl+color+space+concentration+space+dc+format, delimiter=' , ')[9:]\n",
        "     experiments.append(f'Color {color}, concentration {concentration}, dc {dc}')\n",
        "     th = data[:, 0][0:121] #time (s)\n",
        "     Th = data[:, 1][0:121] #temperature of the solution (C)\n",
        "     Rh  = np.gradient(Th, th) #gradient of T with respect to time at max which is considered the heating rate\n",
        "     HR = np.max(Rh) #heating rate\n",
        "     Teqh = Th[np.where(Rh <= np.min(R))[0]] #equilibrium temperature (C)\n",
        "     teqh = th[np.where(Rh <= np.min(R))[0]] # time required to reach equilibrium (s)\n",
        "     fig.add_scatter(x= th, y = Th, name = f'{color}_{concentration}_{dc}', mode = 'markers+lines', marker_color = color)\n",
        "     fig.update_layout(height  = 800, width = 1000, title =  'CQD Heating')\n",
        "     fig.update_xaxes(nticks = 25, tickfont = dict(size = 18), title = 'time (seconds)', title_font = dict(size = 18))\n",
        "     fig.update_yaxes(nticks = 25, tickfont = dict(size = 18), title = 'Temperature (˚C)', title_font = dict(size = 18)) \n",
        "     HRs.append(HR)"
      ],
      "execution_count": 126,
      "outputs": []
    },
    {
      "cell_type": "code",
      "metadata": {
        "colab": {
          "base_uri": "https://localhost:8080/"
        },
        "id": "NrN15iKc7v7R",
        "outputId": "4a1120e0-d6ae-45f6-803a-c8ec893e3701"
      },
      "source": [
        "HRs"
      ],
      "execution_count": 127,
      "outputs": [
        {
          "output_type": "execute_result",
          "data": {
            "text/plain": [
              "[0.7650000000000006,\n",
              " 2.6799999999999997,\n",
              " 5.995000000000001,\n",
              " 8.295000000000002,\n",
              " 10.074999999999998,\n",
              " 1.1449999999999996,\n",
              " 2.549999999999999,\n",
              " 4.974999999999998,\n",
              " 7.015000000000001,\n",
              " 5.484999999999999]"
            ]
          },
          "metadata": {},
          "execution_count": 127
        }
      ]
    },
    {
      "cell_type": "code",
      "metadata": {
        "colab": {
          "base_uri": "https://localhost:8080/"
        },
        "id": "S-clVVjX6WiX",
        "outputId": "6f3e121f-0787-4cee-8ed9-ea44c16d3d16"
      },
      "source": [
        "optimized_sample = experiments[np.argmax(HRs)]\n",
        "print(optimized_sample)"
      ],
      "execution_count": 129,
      "outputs": [
        {
          "output_type": "stream",
          "name": "stdout",
          "text": [
            "Color red, concentration 0.75, dc 100\n"
          ]
        }
      ]
    },
    {
      "cell_type": "code",
      "metadata": {
        "id": "5sKTzVqX_lzg"
      },
      "source": [
        "#for blue 435nm maxpower=4W laser:\n",
        "m, b = 7.025524475524473, -66.07575757575763\n",
        "# dc is arduino board pwm pin duty cycle"
      ],
      "execution_count": 79,
      "outputs": []
    },
    {
      "cell_type": "code",
      "metadata": {
        "id": "nPxyW_9iA7Lx",
        "colab": {
          "base_uri": "https://localhost:8080/"
        },
        "outputId": "65382c50-8db7-403e-f044-4fb91ca07fa8"
      },
      "source": [
        "# *** Steady State Analysis *** Heating rate **** #turning on laser for 120 seconds to measure the heating rate\n",
        "t = data[:, 0][0:121] #time (s)\n",
        "T = data[:, 1][0:121] #temperature of the solution (C)\n",
        "Tw = np.full(t.size, np.min(T))#temperature of the environment (C) (needs to be measured by another K type thermocouple) assumed to be constant at 22 C\n",
        "R  = np.gradient(T, t) #gradient of T with respect to time\n",
        "HR = np.max(R) #heating rate\n",
        "Teq = T[np.where(R <= np.min(R))[0]] #equilibrium temperature (C)\n",
        "teq = t[np.where(R <= np.min(R))[0]] # time required to reach equilibrium (s)\n",
        "print(f'Heated up to equilibrium eemperature of {Teq} in {teq} seconds')"
      ],
      "execution_count": 31,
      "outputs": [
        {
          "output_type": "stream",
          "name": "stdout",
          "text": [
            "Heated up to equilibrium eemperature of [26.27] in [9.] seconds\n"
          ]
        }
      ]
    },
    {
      "cell_type": "code",
      "metadata": {
        "colab": {
          "base_uri": "https://localhost:8080/"
        },
        "id": "X8h-q6j409AM",
        "outputId": "dfb94950-a6da-48b0-9c3b-763431b0af3a"
      },
      "source": [
        "HR"
      ],
      "execution_count": 16,
      "outputs": [
        {
          "output_type": "execute_result",
          "data": {
            "text/plain": [
              "5.484999999999999"
            ]
          },
          "metadata": {},
          "execution_count": 16
        }
      ]
    },
    {
      "cell_type": "code",
      "metadata": {
        "colab": {
          "base_uri": "https://localhost:8080/",
          "height": 817
        },
        "id": "HyWnBNSptSrM",
        "outputId": "ce637aea-81de-485f-cdc2-f6a3b93069c3"
      },
      "source": [
        "fig = make_subplots()\n",
        "fig.add_scatter(x= t, y = T, name = f'{concentration}_{dc}', mode = 'markers+lines', marker_color = color)\n",
        "fig.update_layout(height  = 800, width = 1000, title =  'CQD Heating')\n",
        "fig.update_xaxes(nticks = 25, tickfont = dict(size = 18), title = 'time (seconds)', title_font = dict(size = 18))\n",
        "fig.update_yaxes(nticks = 25, tickfont = dict(size = 18), title = 'Temperature (˚C)', title_font = dict(size = 18))"
      ],
      "execution_count": 39,
      "outputs": [
        {
          "output_type": "display_data",
          "data": {
            "text/html": [
              "<html>\n",
              "<head><meta charset=\"utf-8\" /></head>\n",
              "<body>\n",
              "    <div>\n",
              "            <script src=\"https://cdnjs.cloudflare.com/ajax/libs/mathjax/2.7.5/MathJax.js?config=TeX-AMS-MML_SVG\"></script><script type=\"text/javascript\">if (window.MathJax) {MathJax.Hub.Config({SVG: {font: \"STIX-Web\"}});}</script>\n",
              "                <script type=\"text/javascript\">window.PlotlyConfig = {MathJaxConfig: 'local'};</script>\n",
              "        <script src=\"https://cdn.plot.ly/plotly-latest.min.js\"></script>    \n",
              "            <div id=\"ad58411b-4ae8-4caf-bbb6-a806885a4b2d\" class=\"plotly-graph-div\" style=\"height:800px; width:1000px;\"></div>\n",
              "            <script type=\"text/javascript\">\n",
              "                \n",
              "                    window.PLOTLYENV=window.PLOTLYENV || {};\n",
              "                    \n",
              "                if (document.getElementById(\"ad58411b-4ae8-4caf-bbb6-a806885a4b2d\")) {\n",
              "                    Plotly.newPlot(\n",
              "                        'ad58411b-4ae8-4caf-bbb6-a806885a4b2d',\n",
              "                        [{\"name\": \"water at 100\", \"type\": \"scatter\", \"x\": [9.0, 10.0, 11.0, 12.0, 13.0, 14.0, 15.0, 16.0, 17.0, 18.0, 19.0, 20.0, 21.0, 22.0, 23.0, 24.0, 25.0, 26.0, 27.0, 28.0, 29.0, 30.0, 31.0, 32.0, 33.0, 34.0, 35.0, 36.0, 37.0, 38.0, 39.0, 40.0, 41.0, 42.0, 43.0, 44.0, 45.0, 46.0, 47.0, 48.0, 49.0, 50.0, 51.0, 52.0, 53.0, 54.0, 55.0, 56.0, 57.0, 58.0, 59.0, 60.0, 61.0, 62.0, 63.0, 64.0, 65.0, 66.0, 67.0, 68.0, 69.0, 70.0, 71.0, 72.0, 73.0, 74.0, 75.0, 76.0, 77.0, 78.0, 79.0, 80.0, 81.0, 82.0, 83.0, 84.0, 85.0, 86.0, 87.0, 88.0, 89.0, 90.0, 91.0, 92.0, 93.0, 94.0, 95.0, 96.0, 97.0, 98.0, 99.0, 100.0, 101.0, 102.0, 103.0, 104.0, 105.0, 106.0, 107.0, 108.0, 109.0, 110.0, 111.0, 112.0, 113.0, 114.0, 115.0, 116.0, 117.0, 118.0, 119.0, 120.0, 121.0, 122.0, 123.0, 124.0, 125.0, 126.0, 127.0, 128.0, 129.0], \"y\": [23.47, 23.47, 23.72, 30.61, 32.4, 33.16, 36.48, 38.27, 39.29, 39.8, 40.05, 41.33, 41.58, 42.86, 44.13, 44.13, 44.64, 45.66, 45.92, 47.2, 47.71, 48.22, 48.73, 49.24, 50.0, 50.77, 51.53, 51.79, 52.3, 52.55, 53.83, 54.34, 54.59, 54.85, 55.87, 56.13, 56.38, 56.89, 56.89, 57.91, 58.17, 58.42, 59.44, 59.44, 58.93, 59.44, 59.7, 60.97, 60.97, 61.48, 61.48, 61.48, 62.25, 63.01, 62.76, 62.76, 63.27, 63.78, 63.53, 63.53, 63.78, 63.53, 63.78, 64.04, 64.04, 64.55, 64.8, 65.06, 65.06, 65.31, 65.31, 65.31, 65.82, 65.82, 65.31, 65.57, 65.82, 65.82, 66.59, 66.59, 66.33, 66.08, 66.33, 66.59, 66.59, 66.84, 66.84, 66.59, 66.59, 67.35, 67.1, 67.35, 67.1, 67.61, 68.12, 67.86, 67.35, 67.86, 68.37, 68.12, 67.86, 67.35, 68.12, 68.37, 68.12, 67.86, 68.37, 68.12, 67.86, 68.63, 68.12, 68.88, 68.88, 68.88, 69.14, 69.14, 68.88, 68.88, 68.63, 68.88, 68.63]}, {\"name\": \"water at 100\", \"type\": \"scatter\", \"x\": [9.0, 10.0, 11.0, 12.0, 13.0, 14.0, 15.0, 16.0, 17.0, 18.0, 19.0, 20.0, 21.0, 22.0, 23.0, 24.0, 25.0, 26.0, 27.0, 28.0, 29.0, 30.0, 31.0, 32.0, 33.0, 34.0, 35.0, 36.0, 37.0, 38.0, 39.0, 40.0, 41.0, 42.0, 43.0, 44.0, 45.0, 46.0, 47.0, 48.0, 49.0, 50.0, 51.0, 52.0, 53.0, 54.0, 55.0, 56.0, 57.0, 58.0, 59.0, 60.0, 61.0, 62.0, 63.0, 64.0, 65.0, 66.0, 67.0, 68.0, 69.0, 70.0, 71.0, 72.0, 73.0, 74.0, 75.0, 76.0, 77.0, 78.0, 79.0, 80.0, 81.0, 82.0, 83.0, 84.0, 85.0, 86.0, 87.0, 88.0, 89.0, 90.0, 91.0, 92.0, 93.0, 94.0, 95.0, 96.0, 97.0, 98.0, 99.0, 100.0, 101.0, 102.0, 103.0, 104.0, 105.0, 106.0, 107.0, 108.0, 109.0, 110.0, 111.0, 112.0, 113.0, 114.0, 115.0, 116.0, 117.0, 118.0, 119.0, 120.0, 121.0, 122.0, 123.0, 124.0, 125.0, 126.0, 127.0, 128.0, 129.0], \"y\": [23.47, 23.47, 23.72, 30.61, 32.4, 33.16, 36.48, 38.27, 39.29, 39.8, 40.05, 41.33, 41.58, 42.86, 44.13, 44.13, 44.64, 45.66, 45.92, 47.2, 47.71, 48.22, 48.73, 49.24, 50.0, 50.77, 51.53, 51.79, 52.3, 52.55, 53.83, 54.34, 54.59, 54.85, 55.87, 56.13, 56.38, 56.89, 56.89, 57.91, 58.17, 58.42, 59.44, 59.44, 58.93, 59.44, 59.7, 60.97, 60.97, 61.48, 61.48, 61.48, 62.25, 63.01, 62.76, 62.76, 63.27, 63.78, 63.53, 63.53, 63.78, 63.53, 63.78, 64.04, 64.04, 64.55, 64.8, 65.06, 65.06, 65.31, 65.31, 65.31, 65.82, 65.82, 65.31, 65.57, 65.82, 65.82, 66.59, 66.59, 66.33, 66.08, 66.33, 66.59, 66.59, 66.84, 66.84, 66.59, 66.59, 67.35, 67.1, 67.35, 67.1, 67.61, 68.12, 67.86, 67.35, 67.86, 68.37, 68.12, 67.86, 67.35, 68.12, 68.37, 68.12, 67.86, 68.37, 68.12, 67.86, 68.63, 68.12, 68.88, 68.88, 68.88, 69.14, 69.14, 68.88, 68.88, 68.63, 68.88, 68.63]}, {\"name\": \"water at 100\", \"type\": \"scatter\", \"x\": [9.0, 10.0, 11.0, 12.0, 13.0, 14.0, 15.0, 16.0, 17.0, 18.0, 19.0, 20.0, 21.0, 22.0, 23.0, 24.0, 25.0, 26.0, 27.0, 28.0, 29.0, 30.0, 31.0, 32.0, 33.0, 34.0, 35.0, 36.0, 37.0, 38.0, 39.0, 40.0, 41.0, 42.0, 43.0, 44.0, 45.0, 46.0, 47.0, 48.0, 49.0, 50.0, 51.0, 52.0, 53.0, 54.0, 55.0, 56.0, 57.0, 58.0, 59.0, 60.0, 61.0, 62.0, 63.0, 64.0, 65.0, 66.0, 67.0, 68.0, 69.0, 70.0, 71.0, 72.0, 73.0, 74.0, 75.0, 76.0, 77.0, 78.0, 79.0, 80.0, 81.0, 82.0, 83.0, 84.0, 85.0, 86.0, 87.0, 88.0, 89.0, 90.0, 91.0, 92.0, 93.0, 94.0, 95.0, 96.0, 97.0, 98.0, 99.0, 100.0, 101.0, 102.0, 103.0, 104.0, 105.0, 106.0, 107.0, 108.0, 109.0, 110.0, 111.0, 112.0, 113.0, 114.0, 115.0, 116.0, 117.0, 118.0, 119.0, 120.0, 121.0, 122.0, 123.0, 124.0, 125.0, 126.0, 127.0, 128.0, 129.0], \"y\": [23.47, 23.47, 23.72, 30.61, 32.4, 33.16, 36.48, 38.27, 39.29, 39.8, 40.05, 41.33, 41.58, 42.86, 44.13, 44.13, 44.64, 45.66, 45.92, 47.2, 47.71, 48.22, 48.73, 49.24, 50.0, 50.77, 51.53, 51.79, 52.3, 52.55, 53.83, 54.34, 54.59, 54.85, 55.87, 56.13, 56.38, 56.89, 56.89, 57.91, 58.17, 58.42, 59.44, 59.44, 58.93, 59.44, 59.7, 60.97, 60.97, 61.48, 61.48, 61.48, 62.25, 63.01, 62.76, 62.76, 63.27, 63.78, 63.53, 63.53, 63.78, 63.53, 63.78, 64.04, 64.04, 64.55, 64.8, 65.06, 65.06, 65.31, 65.31, 65.31, 65.82, 65.82, 65.31, 65.57, 65.82, 65.82, 66.59, 66.59, 66.33, 66.08, 66.33, 66.59, 66.59, 66.84, 66.84, 66.59, 66.59, 67.35, 67.1, 67.35, 67.1, 67.61, 68.12, 67.86, 67.35, 67.86, 68.37, 68.12, 67.86, 67.35, 68.12, 68.37, 68.12, 67.86, 68.37, 68.12, 67.86, 68.63, 68.12, 68.88, 68.88, 68.88, 69.14, 69.14, 68.88, 68.88, 68.63, 68.88, 68.63]}, {\"name\": \"water at 100\", \"type\": \"scatter\", \"x\": [9.0, 10.0, 11.0, 12.0, 13.0, 14.0, 15.0, 16.0, 17.0, 18.0, 19.0, 20.0, 21.0, 22.0, 23.0, 24.0, 25.0, 26.0, 27.0, 28.0, 29.0, 30.0, 31.0, 32.0, 33.0, 34.0, 35.0, 36.0, 37.0, 38.0, 39.0, 40.0, 41.0, 42.0, 43.0, 44.0, 45.0, 46.0, 47.0, 48.0, 49.0, 50.0, 51.0, 52.0, 53.0, 54.0, 55.0, 56.0, 57.0, 58.0, 59.0, 60.0, 61.0, 62.0, 63.0, 64.0, 65.0, 66.0, 67.0, 68.0, 69.0, 70.0, 71.0, 72.0, 73.0, 74.0, 75.0, 76.0, 77.0, 78.0, 79.0, 80.0, 81.0, 82.0, 83.0, 84.0, 85.0, 86.0, 87.0, 88.0, 89.0, 90.0, 91.0, 92.0, 93.0, 94.0, 95.0, 96.0, 97.0, 98.0, 99.0, 100.0, 101.0, 102.0, 103.0, 104.0, 105.0, 106.0, 107.0, 108.0, 109.0, 110.0, 111.0, 112.0, 113.0, 114.0, 115.0, 116.0, 117.0, 118.0, 119.0, 120.0, 121.0, 122.0, 123.0, 124.0, 125.0, 126.0, 127.0, 128.0, 129.0], \"y\": [23.47, 23.47, 23.72, 30.61, 32.4, 33.16, 36.48, 38.27, 39.29, 39.8, 40.05, 41.33, 41.58, 42.86, 44.13, 44.13, 44.64, 45.66, 45.92, 47.2, 47.71, 48.22, 48.73, 49.24, 50.0, 50.77, 51.53, 51.79, 52.3, 52.55, 53.83, 54.34, 54.59, 54.85, 55.87, 56.13, 56.38, 56.89, 56.89, 57.91, 58.17, 58.42, 59.44, 59.44, 58.93, 59.44, 59.7, 60.97, 60.97, 61.48, 61.48, 61.48, 62.25, 63.01, 62.76, 62.76, 63.27, 63.78, 63.53, 63.53, 63.78, 63.53, 63.78, 64.04, 64.04, 64.55, 64.8, 65.06, 65.06, 65.31, 65.31, 65.31, 65.82, 65.82, 65.31, 65.57, 65.82, 65.82, 66.59, 66.59, 66.33, 66.08, 66.33, 66.59, 66.59, 66.84, 66.84, 66.59, 66.59, 67.35, 67.1, 67.35, 67.1, 67.61, 68.12, 67.86, 67.35, 67.86, 68.37, 68.12, 67.86, 67.35, 68.12, 68.37, 68.12, 67.86, 68.37, 68.12, 67.86, 68.63, 68.12, 68.88, 68.88, 68.88, 69.14, 69.14, 68.88, 68.88, 68.63, 68.88, 68.63]}, {\"name\": \"water at 100\", \"type\": \"scatter\", \"x\": [9.0, 10.0, 11.0, 12.0, 13.0, 14.0, 15.0, 16.0, 17.0, 18.0, 19.0, 20.0, 21.0, 22.0, 23.0, 24.0, 25.0, 26.0, 27.0, 28.0, 29.0, 30.0, 31.0, 32.0, 33.0, 34.0, 35.0, 36.0, 37.0, 38.0, 39.0, 40.0, 41.0, 42.0, 43.0, 44.0, 45.0, 46.0, 47.0, 48.0, 49.0, 50.0, 51.0, 52.0, 53.0, 54.0, 55.0, 56.0, 57.0, 58.0, 59.0, 60.0, 61.0, 62.0, 63.0, 64.0, 65.0, 66.0, 67.0, 68.0, 69.0, 70.0, 71.0, 72.0, 73.0, 74.0, 75.0, 76.0, 77.0, 78.0, 79.0, 80.0, 81.0, 82.0, 83.0, 84.0, 85.0, 86.0, 87.0, 88.0, 89.0, 90.0, 91.0, 92.0, 93.0, 94.0, 95.0, 96.0, 97.0, 98.0, 99.0, 100.0, 101.0, 102.0, 103.0, 104.0, 105.0, 106.0, 107.0, 108.0, 109.0, 110.0, 111.0, 112.0, 113.0, 114.0, 115.0, 116.0, 117.0, 118.0, 119.0, 120.0, 121.0, 122.0, 123.0, 124.0, 125.0, 126.0, 127.0, 128.0, 129.0], \"y\": [23.47, 23.47, 23.72, 30.61, 32.4, 33.16, 36.48, 38.27, 39.29, 39.8, 40.05, 41.33, 41.58, 42.86, 44.13, 44.13, 44.64, 45.66, 45.92, 47.2, 47.71, 48.22, 48.73, 49.24, 50.0, 50.77, 51.53, 51.79, 52.3, 52.55, 53.83, 54.34, 54.59, 54.85, 55.87, 56.13, 56.38, 56.89, 56.89, 57.91, 58.17, 58.42, 59.44, 59.44, 58.93, 59.44, 59.7, 60.97, 60.97, 61.48, 61.48, 61.48, 62.25, 63.01, 62.76, 62.76, 63.27, 63.78, 63.53, 63.53, 63.78, 63.53, 63.78, 64.04, 64.04, 64.55, 64.8, 65.06, 65.06, 65.31, 65.31, 65.31, 65.82, 65.82, 65.31, 65.57, 65.82, 65.82, 66.59, 66.59, 66.33, 66.08, 66.33, 66.59, 66.59, 66.84, 66.84, 66.59, 66.59, 67.35, 67.1, 67.35, 67.1, 67.61, 68.12, 67.86, 67.35, 67.86, 68.37, 68.12, 67.86, 67.35, 68.12, 68.37, 68.12, 67.86, 68.37, 68.12, 67.86, 68.63, 68.12, 68.88, 68.88, 68.88, 69.14, 69.14, 68.88, 68.88, 68.63, 68.88, 68.63]}, {\"marker\": {\"color\": \"cyan\"}, \"mode\": \"markers+lines\", \"name\": \"0.75_100\", \"type\": \"scatter\", \"x\": [9.0, 10.0, 11.0, 12.0, 13.0, 14.0, 15.0, 16.0, 17.0, 18.0, 19.0, 20.0, 21.0, 22.0, 23.0, 24.0, 25.0, 26.0, 27.0, 28.0, 29.0, 30.0, 31.0, 32.0, 33.0, 34.0, 35.0, 36.0, 37.0, 38.0, 39.0, 40.0, 41.0, 42.0, 43.0, 44.0, 45.0, 46.0, 47.0, 48.0, 49.0, 50.0, 51.0, 52.0, 53.0, 54.0, 55.0, 56.0, 57.0, 58.0, 59.0, 60.0, 61.0, 62.0, 63.0, 64.0, 65.0, 66.0, 67.0, 68.0, 69.0, 70.0, 71.0, 72.0, 73.0, 74.0, 75.0, 76.0, 77.0, 78.0, 79.0, 80.0, 81.0, 82.0, 83.0, 84.0, 85.0, 86.0, 87.0, 88.0, 89.0, 90.0, 91.0, 92.0, 93.0, 94.0, 95.0, 96.0, 97.0, 98.0, 99.0, 100.0, 101.0, 102.0, 103.0, 104.0, 105.0, 106.0, 107.0, 108.0, 109.0, 110.0, 111.0, 112.0, 113.0, 114.0, 115.0, 116.0, 117.0, 118.0, 119.0, 120.0, 121.0, 122.0, 123.0, 124.0, 125.0, 126.0, 127.0, 128.0, 129.0], \"y\": [26.27, 25.76, 26.78, 32.65, 36.99, 41.07, 47.2, 52.04, 54.59, 56.89, 59.7, 62.5, 64.55, 67.1, 71.18, 73.48, 75.52, 77.56, 79.6, 81.64, 82.66, 84.7, 86.23, 86.74, 88.02, 88.79, 89.81, 90.32, 91.85, 92.36, 93.12, 93.89, 94.91, 95.93, 95.93, 96.95, 97.97, 98.48, 99.25, 99.76, 100.01, 100.78, 101.03, 101.54, 102.05, 102.05, 103.07, 103.58, 103.58, 103.33, 103.84, 104.35, 104.86, 105.62, 105.62, 105.62, 105.88, 106.39, 106.9, 106.65, 106.9, 107.16, 107.16, 107.92, 108.18, 107.67, 107.92, 107.92, 108.18, 107.92, 107.67, 107.67, 107.67, 108.18, 107.92, 107.41, 107.41, 108.43, 108.18, 108.43, 108.43, 108.43, 108.43, 108.43, 108.69, 108.43, 108.43, 108.69, 108.94, 109.2, 108.94, 109.45, 109.2, 109.45, 110.22, 110.22, 110.22, 109.96, 110.47, 110.47, 110.47, 110.73, 110.73, 110.47, 110.73, 110.47, 110.22, 110.22, 110.22, 109.96, 110.22, 109.96, 109.96, 109.71, 109.96, 109.2, 109.71, 109.45, 110.22, 110.22, 110.47]}],\n",
              "                        {\"height\": 800, \"template\": {\"data\": {\"bar\": [{\"error_x\": {\"color\": \"#f2f5fa\"}, \"error_y\": {\"color\": \"#f2f5fa\"}, \"marker\": {\"line\": {\"color\": \"rgb(17,17,17)\", \"width\": 0.5}}, \"type\": \"bar\"}], \"barpolar\": [{\"marker\": {\"line\": {\"color\": \"rgb(17,17,17)\", \"width\": 0.5}}, \"type\": \"barpolar\"}], \"carpet\": [{\"aaxis\": {\"endlinecolor\": \"#A2B1C6\", \"gridcolor\": \"#506784\", \"linecolor\": \"#506784\", \"minorgridcolor\": \"#506784\", \"startlinecolor\": \"#A2B1C6\"}, \"baxis\": {\"endlinecolor\": \"#A2B1C6\", \"gridcolor\": \"#506784\", \"linecolor\": \"#506784\", \"minorgridcolor\": \"#506784\", \"startlinecolor\": \"#A2B1C6\"}, \"type\": \"carpet\"}], \"choropleth\": [{\"colorbar\": {\"outlinewidth\": 0, \"ticks\": \"\"}, \"type\": \"choropleth\"}], \"contour\": [{\"colorbar\": {\"outlinewidth\": 0, \"ticks\": \"\"}, \"colorscale\": [[0.0, \"#0d0887\"], [0.1111111111111111, \"#46039f\"], [0.2222222222222222, \"#7201a8\"], [0.3333333333333333, \"#9c179e\"], [0.4444444444444444, \"#bd3786\"], [0.5555555555555556, \"#d8576b\"], [0.6666666666666666, \"#ed7953\"], [0.7777777777777778, \"#fb9f3a\"], [0.8888888888888888, \"#fdca26\"], [1.0, \"#f0f921\"]], \"type\": \"contour\"}], \"contourcarpet\": [{\"colorbar\": {\"outlinewidth\": 0, \"ticks\": \"\"}, \"type\": \"contourcarpet\"}], \"heatmap\": [{\"colorbar\": {\"outlinewidth\": 0, \"ticks\": \"\"}, \"colorscale\": [[0.0, \"#0d0887\"], [0.1111111111111111, \"#46039f\"], [0.2222222222222222, \"#7201a8\"], [0.3333333333333333, \"#9c179e\"], [0.4444444444444444, \"#bd3786\"], [0.5555555555555556, \"#d8576b\"], [0.6666666666666666, \"#ed7953\"], [0.7777777777777778, \"#fb9f3a\"], [0.8888888888888888, \"#fdca26\"], [1.0, \"#f0f921\"]], \"type\": \"heatmap\"}], \"heatmapgl\": [{\"colorbar\": {\"outlinewidth\": 0, \"ticks\": \"\"}, \"colorscale\": [[0.0, \"#0d0887\"], [0.1111111111111111, \"#46039f\"], [0.2222222222222222, \"#7201a8\"], [0.3333333333333333, \"#9c179e\"], [0.4444444444444444, \"#bd3786\"], [0.5555555555555556, \"#d8576b\"], [0.6666666666666666, \"#ed7953\"], [0.7777777777777778, \"#fb9f3a\"], [0.8888888888888888, \"#fdca26\"], [1.0, \"#f0f921\"]], \"type\": \"heatmapgl\"}], \"histogram\": [{\"marker\": {\"colorbar\": {\"outlinewidth\": 0, \"ticks\": \"\"}}, \"type\": \"histogram\"}], \"histogram2d\": [{\"colorbar\": {\"outlinewidth\": 0, \"ticks\": \"\"}, \"colorscale\": [[0.0, \"#0d0887\"], [0.1111111111111111, \"#46039f\"], [0.2222222222222222, \"#7201a8\"], [0.3333333333333333, \"#9c179e\"], [0.4444444444444444, \"#bd3786\"], [0.5555555555555556, \"#d8576b\"], [0.6666666666666666, \"#ed7953\"], [0.7777777777777778, \"#fb9f3a\"], [0.8888888888888888, \"#fdca26\"], [1.0, \"#f0f921\"]], \"type\": \"histogram2d\"}], \"histogram2dcontour\": [{\"colorbar\": {\"outlinewidth\": 0, \"ticks\": \"\"}, \"colorscale\": [[0.0, \"#0d0887\"], [0.1111111111111111, \"#46039f\"], [0.2222222222222222, \"#7201a8\"], [0.3333333333333333, \"#9c179e\"], [0.4444444444444444, \"#bd3786\"], [0.5555555555555556, \"#d8576b\"], [0.6666666666666666, \"#ed7953\"], [0.7777777777777778, \"#fb9f3a\"], [0.8888888888888888, \"#fdca26\"], [1.0, \"#f0f921\"]], \"type\": \"histogram2dcontour\"}], \"mesh3d\": [{\"colorbar\": {\"outlinewidth\": 0, \"ticks\": \"\"}, \"type\": \"mesh3d\"}], \"parcoords\": [{\"line\": {\"colorbar\": {\"outlinewidth\": 0, \"ticks\": \"\"}}, \"type\": \"parcoords\"}], \"pie\": [{\"automargin\": true, \"type\": \"pie\"}], \"scatter\": [{\"marker\": {\"line\": {\"color\": \"#283442\"}}, \"type\": \"scatter\"}], \"scatter3d\": [{\"line\": {\"colorbar\": {\"outlinewidth\": 0, \"ticks\": \"\"}}, \"marker\": {\"colorbar\": {\"outlinewidth\": 0, \"ticks\": \"\"}}, \"type\": \"scatter3d\"}], \"scattercarpet\": [{\"marker\": {\"colorbar\": {\"outlinewidth\": 0, \"ticks\": \"\"}}, \"type\": \"scattercarpet\"}], \"scattergeo\": [{\"marker\": {\"colorbar\": {\"outlinewidth\": 0, \"ticks\": \"\"}}, \"type\": \"scattergeo\"}], \"scattergl\": [{\"marker\": {\"line\": {\"color\": \"#283442\"}}, \"type\": \"scattergl\"}], \"scattermapbox\": [{\"marker\": {\"colorbar\": {\"outlinewidth\": 0, \"ticks\": \"\"}}, \"type\": \"scattermapbox\"}], \"scatterpolar\": [{\"marker\": {\"colorbar\": {\"outlinewidth\": 0, \"ticks\": \"\"}}, \"type\": \"scatterpolar\"}], \"scatterpolargl\": [{\"marker\": {\"colorbar\": {\"outlinewidth\": 0, \"ticks\": \"\"}}, \"type\": \"scatterpolargl\"}], \"scatterternary\": [{\"marker\": {\"colorbar\": {\"outlinewidth\": 0, \"ticks\": \"\"}}, \"type\": \"scatterternary\"}], \"surface\": [{\"colorbar\": {\"outlinewidth\": 0, \"ticks\": \"\"}, \"colorscale\": [[0.0, \"#0d0887\"], [0.1111111111111111, \"#46039f\"], [0.2222222222222222, \"#7201a8\"], [0.3333333333333333, \"#9c179e\"], [0.4444444444444444, \"#bd3786\"], [0.5555555555555556, \"#d8576b\"], [0.6666666666666666, \"#ed7953\"], [0.7777777777777778, \"#fb9f3a\"], [0.8888888888888888, \"#fdca26\"], [1.0, \"#f0f921\"]], \"type\": \"surface\"}], \"table\": [{\"cells\": {\"fill\": {\"color\": \"#506784\"}, \"line\": {\"color\": \"rgb(17,17,17)\"}}, \"header\": {\"fill\": {\"color\": \"#2a3f5f\"}, \"line\": {\"color\": \"rgb(17,17,17)\"}}, \"type\": \"table\"}]}, \"layout\": {\"annotationdefaults\": {\"arrowcolor\": \"#f2f5fa\", \"arrowhead\": 0, \"arrowwidth\": 1}, \"coloraxis\": {\"colorbar\": {\"outlinewidth\": 0, \"ticks\": \"\"}}, \"colorscale\": {\"diverging\": [[0, \"#8e0152\"], [0.1, \"#c51b7d\"], [0.2, \"#de77ae\"], [0.3, \"#f1b6da\"], [0.4, \"#fde0ef\"], [0.5, \"#f7f7f7\"], [0.6, \"#e6f5d0\"], [0.7, \"#b8e186\"], [0.8, \"#7fbc41\"], [0.9, \"#4d9221\"], [1, \"#276419\"]], \"sequential\": [[0.0, \"#0d0887\"], [0.1111111111111111, \"#46039f\"], [0.2222222222222222, \"#7201a8\"], [0.3333333333333333, \"#9c179e\"], [0.4444444444444444, \"#bd3786\"], [0.5555555555555556, \"#d8576b\"], [0.6666666666666666, \"#ed7953\"], [0.7777777777777778, \"#fb9f3a\"], [0.8888888888888888, \"#fdca26\"], [1.0, \"#f0f921\"]], \"sequentialminus\": [[0.0, \"#0d0887\"], [0.1111111111111111, \"#46039f\"], [0.2222222222222222, \"#7201a8\"], [0.3333333333333333, \"#9c179e\"], [0.4444444444444444, \"#bd3786\"], [0.5555555555555556, \"#d8576b\"], [0.6666666666666666, \"#ed7953\"], [0.7777777777777778, \"#fb9f3a\"], [0.8888888888888888, \"#fdca26\"], [1.0, \"#f0f921\"]]}, \"colorway\": [\"#636efa\", \"#EF553B\", \"#00cc96\", \"#ab63fa\", \"#FFA15A\", \"#19d3f3\", \"#FF6692\", \"#B6E880\", \"#FF97FF\", \"#FECB52\"], \"font\": {\"color\": \"#f2f5fa\"}, \"geo\": {\"bgcolor\": \"rgb(17,17,17)\", \"lakecolor\": \"rgb(17,17,17)\", \"landcolor\": \"rgb(17,17,17)\", \"showlakes\": true, \"showland\": true, \"subunitcolor\": \"#506784\"}, \"hoverlabel\": {\"align\": \"left\"}, \"hovermode\": \"closest\", \"mapbox\": {\"style\": \"dark\"}, \"paper_bgcolor\": \"rgb(17,17,17)\", \"plot_bgcolor\": \"rgb(17,17,17)\", \"polar\": {\"angularaxis\": {\"gridcolor\": \"#506784\", \"linecolor\": \"#506784\", \"ticks\": \"\"}, \"bgcolor\": \"rgb(17,17,17)\", \"radialaxis\": {\"gridcolor\": \"#506784\", \"linecolor\": \"#506784\", \"ticks\": \"\"}}, \"scene\": {\"xaxis\": {\"backgroundcolor\": \"rgb(17,17,17)\", \"gridcolor\": \"#506784\", \"gridwidth\": 2, \"linecolor\": \"#506784\", \"showbackground\": true, \"ticks\": \"\", \"zerolinecolor\": \"#C8D4E3\"}, \"yaxis\": {\"backgroundcolor\": \"rgb(17,17,17)\", \"gridcolor\": \"#506784\", \"gridwidth\": 2, \"linecolor\": \"#506784\", \"showbackground\": true, \"ticks\": \"\", \"zerolinecolor\": \"#C8D4E3\"}, \"zaxis\": {\"backgroundcolor\": \"rgb(17,17,17)\", \"gridcolor\": \"#506784\", \"gridwidth\": 2, \"linecolor\": \"#506784\", \"showbackground\": true, \"ticks\": \"\", \"zerolinecolor\": \"#C8D4E3\"}}, \"shapedefaults\": {\"line\": {\"color\": \"#f2f5fa\"}}, \"sliderdefaults\": {\"bgcolor\": \"#C8D4E3\", \"bordercolor\": \"rgb(17,17,17)\", \"borderwidth\": 1, \"tickwidth\": 0}, \"ternary\": {\"aaxis\": {\"gridcolor\": \"#506784\", \"linecolor\": \"#506784\", \"ticks\": \"\"}, \"baxis\": {\"gridcolor\": \"#506784\", \"linecolor\": \"#506784\", \"ticks\": \"\"}, \"bgcolor\": \"rgb(17,17,17)\", \"caxis\": {\"gridcolor\": \"#506784\", \"linecolor\": \"#506784\", \"ticks\": \"\"}}, \"title\": {\"x\": 0.05}, \"updatemenudefaults\": {\"bgcolor\": \"#506784\", \"borderwidth\": 0}, \"xaxis\": {\"automargin\": true, \"gridcolor\": \"#283442\", \"linecolor\": \"#506784\", \"ticks\": \"\", \"title\": {\"standoff\": 15}, \"zerolinecolor\": \"#283442\", \"zerolinewidth\": 2}, \"yaxis\": {\"automargin\": true, \"gridcolor\": \"#283442\", \"linecolor\": \"#506784\", \"ticks\": \"\", \"title\": {\"standoff\": 15}, \"zerolinecolor\": \"#283442\", \"zerolinewidth\": 2}}}, \"title\": {\"text\": \"CQD Heating\"}, \"width\": 1000, \"xaxis\": {\"anchor\": \"y\", \"domain\": [0.0, 1.0], \"nticks\": 25, \"tickfont\": {\"size\": 18}, \"title\": {\"font\": {\"size\": 18}, \"text\": \"time (seconds)\"}}, \"yaxis\": {\"anchor\": \"x\", \"domain\": [0.0, 1.0], \"nticks\": 25, \"tickfont\": {\"size\": 18}, \"title\": {\"font\": {\"size\": 18}, \"text\": \"Temperature (\\u02daC)\"}}},\n",
              "                        {\"responsive\": true}\n",
              "                    ).then(function(){\n",
              "                            \n",
              "var gd = document.getElementById('ad58411b-4ae8-4caf-bbb6-a806885a4b2d');\n",
              "var x = new MutationObserver(function (mutations, observer) {{\n",
              "        var display = window.getComputedStyle(gd).display;\n",
              "        if (!display || display === 'none') {{\n",
              "            console.log([gd, 'removed!']);\n",
              "            Plotly.purge(gd);\n",
              "            observer.disconnect();\n",
              "        }}\n",
              "}});\n",
              "\n",
              "// Listen for the removal of the full notebook cells\n",
              "var notebookContainer = gd.closest('#notebook-container');\n",
              "if (notebookContainer) {{\n",
              "    x.observe(notebookContainer, {childList: true});\n",
              "}}\n",
              "\n",
              "// Listen for the clearing of the current output cell\n",
              "var outputEl = gd.closest('.output');\n",
              "if (outputEl) {{\n",
              "    x.observe(outputEl, {childList: true});\n",
              "}}\n",
              "\n",
              "                        })\n",
              "                };\n",
              "                \n",
              "            </script>\n",
              "        </div>\n",
              "</body>\n",
              "</html>"
            ]
          },
          "metadata": {}
        }
      ]
    },
    {
      "cell_type": "code",
      "metadata": {
        "id": "8hjXEMeKmYFz",
        "colab": {
          "base_uri": "https://localhost:8080/"
        },
        "outputId": "842ab99b-834e-43fa-a0a1-7c813f980ca1"
      },
      "source": [
        "# *** Steady State Analysis *** Cooling rate **** #turning off laser for 120 seconds to measure the cooling rate\n",
        "t = data[:, 0] #time (s)\n",
        "T = data[:, 1] #temperature of the solution (C)\n",
        "Tw = np.full(t.size, 22)#temperature of the environment (C) (needs to be measured by another K type thermocouple) assumed to be constant at 22 C\n",
        "C  = np.gradient(T, t) #gradient of T with respect to time\n",
        "CR = np.max(C) #heating rate\n",
        "Teq = T[np.min(np.where(C<0.01))] #equilibrium temperature (C)\n",
        "teq = t[np.min(np.where(C<0.01))] # time required to reach equilibrium (s)\n",
        "print(f'Cooled down to equilibrium temperature of {Teq} in {teq} seconds')"
      ],
      "execution_count": 10,
      "outputs": [
        {
          "output_type": "stream",
          "name": "stdout",
          "text": [
            "Cooled down to equilibrium temperature of 108.43 in 34.0 seconds\n"
          ]
        }
      ]
    },
    {
      "cell_type": "code",
      "metadata": {
        "id": "r7b8y5n-m0BQ",
        "colab": {
          "base_uri": "https://localhost:8080/",
          "height": 236
        },
        "outputId": "211b14ef-1292-4ab2-ea27-fdb4322f6a01"
      },
      "source": [
        "# *** Photothermal conversion efficiency ***\n",
        "\n",
        "#Iout = #measured using powermeter: f(CCQD, L_laser) (W)\n",
        "#S_PCR_tube = #surface area of the solution at which laser beam is passing through:[PCR_tube, paper] (m**2)\n",
        "#S_paper = #surface are of the paper at which laser beam is covering:[PCR_tube, paper]  (m**2)\n",
        "#m = rho * V #mass of solution (Kg)\n",
        "\n",
        "Iin = m*dc + b #input power of the laser: f(dc) (W)\n",
        "h = 1000 #heat transfor coefficient of solution with its surrounding (W/(m**2)*C)\n",
        "\n",
        "rho  = 1000 #density of solution (kg/m**3)\n",
        "V = 1e-8 #volume of the solution (m**3)\n",
        "Cp = 4182 #heat capacity of water (J/Kg*C)\n",
        "#eta = ((R*(Cp*m)+np.sum((h*S*(T - Tw))))/(Iin - Iout)\n",
        "#print(f'Photothermal Conversion efficiency of your CQD is {eta}')"
      ],
      "execution_count": 11,
      "outputs": [
        {
          "output_type": "error",
          "ename": "TypeError",
          "evalue": "ignored",
          "traceback": [
            "\u001b[0;31m---------------------------------------------------------------------------\u001b[0m",
            "\u001b[0;31mTypeError\u001b[0m                                 Traceback (most recent call last)",
            "\u001b[0;32m<ipython-input-11-7864ce3102b0>\u001b[0m in \u001b[0;36m<module>\u001b[0;34m()\u001b[0m\n\u001b[1;32m      6\u001b[0m \u001b[0;31m#m = rho * V #mass of solution (Kg)\u001b[0m\u001b[0;34m\u001b[0m\u001b[0;34m\u001b[0m\u001b[0;34m\u001b[0m\u001b[0m\n\u001b[1;32m      7\u001b[0m \u001b[0;34m\u001b[0m\u001b[0m\n\u001b[0;32m----> 8\u001b[0;31m \u001b[0mIin\u001b[0m \u001b[0;34m=\u001b[0m \u001b[0mm\u001b[0m\u001b[0;34m*\u001b[0m\u001b[0mdc\u001b[0m \u001b[0;34m+\u001b[0m \u001b[0mb\u001b[0m \u001b[0;31m#input power of the laser: f(dc) (W)\u001b[0m\u001b[0;34m\u001b[0m\u001b[0;34m\u001b[0m\u001b[0m\n\u001b[0m\u001b[1;32m      9\u001b[0m \u001b[0mh\u001b[0m \u001b[0;34m=\u001b[0m \u001b[0;36m1000\u001b[0m \u001b[0;31m#heat transfor coefficient of solution with its surrounding (W/(m**2)*C)\u001b[0m\u001b[0;34m\u001b[0m\u001b[0;34m\u001b[0m\u001b[0m\n\u001b[1;32m     10\u001b[0m \u001b[0;34m\u001b[0m\u001b[0m\n",
            "\u001b[0;31mTypeError\u001b[0m: can't multiply sequence by non-int of type 'float'"
          ]
        }
      ]
    },
    {
      "cell_type": "code",
      "metadata": {
        "id": "FBnYzvoCo24m"
      },
      "source": [
        "# *** what we need to know of each CQD***\n",
        "#print(f' {Color} CQD reached Teq of {Teq} at {Iout} mW in {teq} seconds, eta: {eta}')"
      ],
      "execution_count": null,
      "outputs": []
    },
    {
      "cell_type": "code",
      "metadata": {
        "id": "CMWM4kPknP6u"
      },
      "source": [
        "# ***Modeling the heat diffusion in PCR-Tube and paper***\n",
        "nx = 2\n",
        "x = np.arange(nx)\n",
        "nt = np.int(teq) #temperature rise is evaluated in {t.size} seconds\n",
        "Tplot = np.full(T.size, np.min(Tw))"
      ],
      "execution_count": null,
      "outputs": []
    },
    {
      "cell_type": "code",
      "metadata": {
        "id": "7fUJeZodm_KO"
      },
      "source": [
        "fig = make_subplots()\n",
        "fig.add_scatter(x = x, y = Tplot, name = '0 s')\n",
        "for i in range (nt):\n",
        "  Tplot[0] = T[i]\n",
        "  Tplot[-1] = np.min(Tw)\n",
        "  fig.add_scatter(x = np.arange(nx), y = Tplot, name = f'{i+1} s')\n",
        "fig.update_layout(height = 800, width = 1100)\n",
        "fig.show()"
      ],
      "execution_count": null,
      "outputs": []
    },
    {
      "cell_type": "code",
      "metadata": {
        "id": "3ueSkRjy17VM"
      },
      "source": [
        ""
      ],
      "execution_count": null,
      "outputs": []
    }
  ]
}